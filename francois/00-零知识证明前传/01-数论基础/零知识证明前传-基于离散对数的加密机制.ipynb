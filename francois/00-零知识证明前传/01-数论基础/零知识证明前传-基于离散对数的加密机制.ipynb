{
 "cells": [
  {
   "cell_type": "markdown",
   "id": "0f5b9317",
   "metadata": {},
   "source": [
    "## 离散对数难题\n",
    "\n",
    "在一个循环群$G$上，群元素 $y=a^x$，已知y和a，求x是一个非常困难的事情，但验证x是不是满足该等式却比较简单，这就是一个NP类问题。这个问题被称之为离散对数难题DLP，根据选择的不同的群，有椭圆曲线离散对数难题ECDLP，也有有限域$F_q$上的乘法群对数难题等等。\n",
    "\n",
    "## Diffie-Hellman秘钥交换\n",
    "\n",
    "Alice和Bob是需要进行秘密通信的双方，可以选择一个公开的有限群G，$P\\in G$，P和G是公开信息 <br>\n",
    "1、Alice随机选择一个正整数a，并发$P^a$给Bob <br>\n",
    "2、Bob随机选择一个正整数b，并发$P^b$给Alice <br>\n",
    "3、Alice和Bob就可以 分别计算出来$P^{ab}$作为他们的秘密通信的共同秘钥 <br>\n",
    "这个算法成立是基于任何攻击者，如果只得到$P^a$ 或者$P^b$，是无法求出来a或b的，也就是基于上文的离散对数难题。 <br>\n",
    "\n",
    "DH秘钥交换的应用场景非常多，在HTTPS/SSL等常见协议中，通信双方就是利用这个机制来交换加密通信所需的秘钥。\n",
    "\n",
    "## Elgamal密码体制\n",
    "\n",
    "ElGamal加密算法是一个基于DH密钥交换的非对称加密算法。它在1985年由塔希尔·盖莫尔提出。GnuPG和PGP等很多密码学系统中都应用到了ElGamal算法。美国的DSS(Digital Signature Standard)的DSA(Digital Signature Algorithm)算法是经ElGamal算法演变而来。ElGamal加密算法可以定义在任何循环群G上，它的安全性取决于G上的离散对数难题。其基本原理如下：\n",
    "\n",
    "Alice和Bob是需要进行秘密通信的双方，可以选择一个公开的循环群G，$g\\in G$，g是G的生成元，g和G都是公开信息 <br>\n",
    "1、Alice随机选择一个正整数a，并发$g^a$给Bob <br>\n",
    "2、Bob随机选择一个正整数b，秘密信息x，并发$g^b，x*(g^a)^b=x*g^{ab} $给Alice <br>\n",
    "3、Alice计算$x*g^{ab}/((g^b)^a)$，即可得到解密后的原文x <br>\n",
    "可以看出这个加密机制，跟上文的DH思想是如出一辙的，通信双方在发送公钥$g^a,g^b$的时候，不需要担心有人可以知道私钥a或b，这一点由DLP来保证 <br>\n",
    "选择不同的循环群，就有不同的Elgamal算法，例如在区块链里常见的基于椭圆曲线 EC Elgamal，基于$F_p$素域的实现等等。"
   ]
  },
  {
   "cell_type": "code",
   "execution_count": 6,
   "id": "b202c2e2",
   "metadata": {},
   "outputs": [],
   "source": [
    "p = 2357\n",
    "g = 2\n",
    "priv_a = 88\n",
    "pub_a = 2**priv_a % p\n",
    "priv_b = 99\n",
    "pub_b = 2**priv_b % p\n",
    "x = 1234\n",
    "def DH():\n",
    "    shared1 = pub_a ** priv_b % p\n",
    "    shared2 = pub_b ** priv_a % p\n",
    "    #print(shared1, shared2)\n",
    "    assert(shared1 == shared2)\n",
    "\n",
    "DH()\n",
    "\n",
    "def Elgamal_encode(msg, pubk, privk):\n",
    "    return (2**privk %p, msg*(pubk**privk) %p)\n",
    "\n",
    "def Elgamal_decode(msg, pubk, privk):\n",
    "    #根据费马小定理算出pubk**privk的逆元\n",
    "    a = (pubk**privk)**(p-2) %p\n",
    "    return (msg*a %p)\n",
    "\n",
    "pub, y = Elgamal_encode(x, pub_a, priv_b)\n",
    "x2 = Elgamal_decode(y, pub, priv_a)\n",
    "#print(y, x2)\n",
    "assert(x == x2)\n"
   ]
  },
  {
   "cell_type": "code",
   "execution_count": null,
   "id": "09e1e385",
   "metadata": {},
   "outputs": [],
   "source": []
  }
 ],
 "metadata": {
  "kernelspec": {
   "display_name": "Python 3 (ipykernel)",
   "language": "python",
   "name": "python3"
  },
  "language_info": {
   "codemirror_mode": {
    "name": "ipython",
    "version": 3
   },
   "file_extension": ".py",
   "mimetype": "text/x-python",
   "name": "python",
   "nbconvert_exporter": "python",
   "pygments_lexer": "ipython3",
   "version": "3.10.1"
  }
 },
 "nbformat": 4,
 "nbformat_minor": 5
}
