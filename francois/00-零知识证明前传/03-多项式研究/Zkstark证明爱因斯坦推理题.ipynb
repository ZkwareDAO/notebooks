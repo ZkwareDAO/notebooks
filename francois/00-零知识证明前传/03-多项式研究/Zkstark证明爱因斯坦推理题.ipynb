{
 "cells": [
  {
   "cell_type": "markdown",
   "id": "591182f0",
   "metadata": {},
   "source": [
    "# 用zkstark来证明爱因斯坦推理题的答案（二）\n",
    "\n",
    "以下就是先仿照stark101的part1代码，构建一个乘法子群、陪集、用拉格朗日插值解方程，考虑到stark101的解释已经非常完美了，就没必要画蛇添足的增加过多的解释，读者如果不明白，可以去翻一下stark101的教程。https://github.com/starkware-industries/stark101"
   ]
  },
  {
   "cell_type": "code",
   "execution_count": 43,
   "id": "497274c7",
   "metadata": {},
   "outputs": [],
   "source": [
    "from field import FieldElement\n",
    "from polynomial import X, interpolate_poly, Polynomial\n",
    "from merkle import MerkleTree\n",
    "from channel import Channel\n",
    "\n",
    "def extend_to_cyclic_group(x, y):\n",
    "    x2 = [d for d in range(256)]\n",
    "    y2 = [0 for d in range(256)]\n",
    "    i = 0\n",
    "    for d in x :\n",
    "        y2[d] = y[i]\n",
    "        i += 1\n",
    "        \n",
    "    return x2, y2\n",
    "\n",
    "x=[121,105,136,11,120,16,55,125,86,141,20,59,50,34,137,53]\n",
    "y=[121,105,136,11,120,16,55,125,86,36,129,59,50,118,1,8]\n",
    "_, y = extend_to_cyclic_group(x, y)\n",
    "#print(y)\n"
   ]
  },
  {
   "cell_type": "markdown",
   "id": "8667a56c",
   "metadata": {},
   "source": [
    "在这里，我们的trace只有16个，但其值域为了完美去重，在前面部分已经选149这个素数作为基，得出的数字值域，然后这里再做一个变形，将其放到$Z_{2^8}$ 中，从二进制表示到素数求余再到这里的$Z_{256}$，有些跳跃，但不难理解他们的等价关系，这里就不展开了。"
   ]
  },
  {
   "cell_type": "code",
   "execution_count": 44,
   "id": "e830b1ff",
   "metadata": {},
   "outputs": [],
   "source": [
    "g = FieldElement.generator() ** (3 * 2 ** 22)\n",
    "G = [g ** i for i in range(256)]\n",
    "a = [g ** i for i in y]\n",
    "\n",
    "f = interpolate_poly(G, a)\n",
    "#v = f(g**121)\n",
    "#print(v)\n",
    "#print(g**121)"
   ]
  },
  {
   "cell_type": "markdown",
   "id": "2d4de7e6",
   "metadata": {},
   "source": [
    "拉格朗日插值解方程"
   ]
  },
  {
   "cell_type": "code",
   "execution_count": 45,
   "id": "b1952409",
   "metadata": {},
   "outputs": [],
   "source": [
    "w = FieldElement.generator()\n",
    "h = w ** ((2 ** 30 * 3) // 2048)\n",
    "H = [h ** i for i in range(2048)]\n",
    "eval_domain = [w * x for x in H]\n",
    "f_eval = [f(d) for d in eval_domain]"
   ]
  },
  {
   "cell_type": "markdown",
   "id": "8c00d7ac",
   "metadata": {},
   "source": [
    "设定RScode码率$\\rho$为$\\frac{1}{8}$，因此选一个大小为2048的陪集来验证"
   ]
  },
  {
   "cell_type": "code",
   "execution_count": 46,
   "id": "d2ec21ff",
   "metadata": {},
   "outputs": [
    {
     "name": "stdout",
     "output_type": "stream",
     "text": [
      "['send:e57657b5945f7dc18827d470a9d1c52880af5a273a5328a8de2ce0887184e60e']\n"
     ]
    }
   ],
   "source": [
    "f_merkle = MerkleTree(f_eval)\n",
    "channel = Channel()\n",
    "channel.send(f_merkle.root)\n",
    "print(channel.proof)"
   ]
  },
  {
   "cell_type": "markdown",
   "id": "9235f4d0",
   "metadata": {},
   "source": [
    "我们这里不像stark101存在边界约束，并且在stark101里为了简化运算，用了组合多项式的技巧，在本文中不需要，因此后面代码跟stark101里有少许不同，请注意差别。"
   ]
  },
  {
   "cell_type": "code",
   "execution_count": 70,
   "id": "70c0c29e",
   "metadata": {},
   "outputs": [],
   "source": [
    "def next_fri_domain(fri_domain):\n",
    "    return [x ** 2 for x in fri_domain[:len(fri_domain) // 2]]\n",
    "\n",
    "def next_fri_polynomial(poly,  beta):\n",
    "    odd_coefficients = poly.poly[1::2]\n",
    "    even_coefficients = poly.poly[::2]\n",
    "    odd = beta * Polynomial(odd_coefficients)\n",
    "    even = Polynomial(even_coefficients)\n",
    "    return odd + even\n",
    "\n",
    "def next_fri_layer(poly, domain, beta):\n",
    "    next_poly = next_fri_polynomial(poly, beta)\n",
    "    next_domain = next_fri_domain(domain)\n",
    "    next_layer = [next_poly(x) for x in next_domain]\n",
    "    return next_poly, next_domain, next_layer\n",
    "\n",
    "def FriCommit(cp, domain, cp_eval, cp_merkle, channel):    \n",
    "    fri_polys = [cp]\n",
    "    fri_domains = [domain]\n",
    "    fri_layers = [cp_eval]\n",
    "    fri_merkles = [cp_merkle]\n",
    "    while fri_polys[-1].degree() > 0:\n",
    "        beta = channel.receive_random_field_element()  #获得随机数\n",
    "        next_poly, next_domain, next_layer = next_fri_layer(fri_polys[-1], fri_domains[-1], beta)\n",
    "        fri_polys.append(next_poly)\n",
    "        fri_domains.append(next_domain)\n",
    "        fri_layers.append(next_layer)\n",
    "        fri_merkles.append(MerkleTree(next_layer))\n",
    "        channel.send(fri_merkles[-1].root)   # 发送每一层的merkle 根\n",
    "    channel.send(str(fri_polys[-1].poly[0]))\n",
    "    return fri_polys, fri_domains, fri_layers, fri_merkles\n",
    "\n",
    "fri_polys, fri_domains, fri_layers, fri_merkles = FriCommit(f, eval_domain, f_eval, f_merkle, channel)\n",
    "#print(channel.proof) "
   ]
  },
  {
   "cell_type": "markdown",
   "id": "4fb94165",
   "metadata": {},
   "source": [
    "行文至此，已经实现了FRI，对应stark101代码里，我们快速跳过了它的part2部分，上面代码FriCommit对应于part3，下面代码decommit对应于part4。这里解释下channel的作用，这个类模拟了prover跟verifier交互的prover这一侧的动作，（注意verifier侧的动作没提供），因此在commit的时候，需要从verifier那里获得一个随机数，然后发送merkle root给verifier，依次循环，直到最后发送一个常数，如上述代码中， channel.send(str(fri_polys[-1].poly[0])) 所示。"
   ]
  },
  {
   "cell_type": "code",
   "execution_count": 63,
   "id": "330a245a",
   "metadata": {},
   "outputs": [],
   "source": [
    "def decommit_on_fri_layers(idx, channel):\n",
    "    for layer, merkle in zip(fri_layers[:-1], fri_merkles[:-1]):\n",
    "        length = len(layer)\n",
    "        idx = idx % length\n",
    "        sib_idx = (idx + length // 2) % length        \n",
    "        channel.send(str(layer[idx]))  #对应到verifer的query动作接收相应信息\n",
    "        channel.send(str(merkle.get_authentication_path(idx)))\n",
    "        channel.send(str(layer[sib_idx]))\n",
    "        channel.send(str(merkle.get_authentication_path(sib_idx)))       \n",
    "    channel.send(str(fri_layers[-1][0]))\n",
    "    \n",
    "def decommit_on_query(idx, channel): \n",
    "    assert idx < len(f_eval), f'query index: {idx} is out of range. Length of layer: {len(f_eval)}.'\n",
    "    channel.send(str(f_eval[idx])) \n",
    "    channel.send(str(f_merkle.get_authentication_path(idx))) # \n",
    "    decommit_on_fri_layers(idx, channel)   \n",
    "    \n",
    "def decommit_fri(channel):\n",
    "    for query in range(3):\n",
    "        # Get a random index from the verifier and send the corresponding decommitment.\n",
    "        decommit_on_query(channel.receive_random_int(0, 2047), channel)"
   ]
  },
  {
   "cell_type": "markdown",
   "id": "5a881daa",
   "metadata": {},
   "source": [
    "需要指出的是，decommit是prover完成的动作，而query是verifier完成的动作，在stark101里并没有提供verifier的实现代码。"
   ]
  },
  {
   "cell_type": "code",
   "execution_count": 68,
   "id": "862baa52",
   "metadata": {},
   "outputs": [
    {
     "name": "stdout",
     "output_type": "stream",
     "text": [
      "Generating queries and decommitments...\n",
      "0.6715939044952393s\n",
      "Uncompressed proof length in characters: 448052\n"
     ]
    }
   ],
   "source": [
    "import time\n",
    "\n",
    "#print(channel.proof)\n",
    "start = time.time()\n",
    "print(\"Generating queries and decommitments...\")\n",
    "decommit_fri(channel)\n",
    "print(f'{time.time() - start}s')\n",
    "start = time.time()\n",
    "#print(channel.proof)\n",
    "print(f'Uncompressed proof length in characters: {len(str(channel.proof))}')"
   ]
  },
  {
   "cell_type": "markdown",
   "id": "f653c2db",
   "metadata": {},
   "source": [
    "至此，我们巧妙的用AIR构造了这个著名的爱因斯坦问题，然后用zkstark的思想对其进行零知识证明，不过我们只完成了prover部分的工作，verifier的工作跟stark101教程里一样，也没有去实现，但原理基本上是清楚的。"
   ]
  },
  {
   "attachments": {},
   "cell_type": "markdown",
   "id": "f8e9d65d",
   "metadata": {},
   "source": [
    "最后来一个彩蛋，在stark101的part2中，有这么一个多项式化简的技巧：\n",
    "\n",
    "$$ \\prod_{i=0}^{1023} (x-g^i) = x^{1024}-1 $$ \n",
    "不管是PPT、视频都没有解释这个等式是怎么来的，其实原理比较简单，因为方程 $x^{1024}=1=g^0 $ 有1024个解，又因为按照我们对g的定义，刚好$g^i$，$i\\in[0..1023]$都满足，所以可以得到上面的等式。\n"
   ]
  }
 ],
 "metadata": {
  "kernelspec": {
   "display_name": "Python 3 (ipykernel)",
   "language": "python",
   "name": "python3"
  },
  "language_info": {
   "codemirror_mode": {
    "name": "ipython",
    "version": 3
   },
   "file_extension": ".py",
   "mimetype": "text/x-python",
   "name": "python",
   "nbconvert_exporter": "python",
   "pygments_lexer": "ipython3",
   "version": "3.10.1"
  }
 },
 "nbformat": 4,
 "nbformat_minor": 5
}
