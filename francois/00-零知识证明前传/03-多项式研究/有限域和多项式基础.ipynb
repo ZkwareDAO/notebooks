{
 "cells": [
  {
   "cell_type": "markdown",
   "id": "d25ad07c",
   "metadata": {},
   "source": [
    "# 有限域和多项式\n",
    "本节快速的总结一下相关的有限域知识点 <br>\n",
    "域有这样一个性质：在加法和乘法上具有封闭性。也就是说对域中的元素进行加法或乘法运算后的结果仍然是域中的元素。<br>\n",
    "\n",
    "## 有限域$GF(p^n)$\n",
    "我们最为关注的只有两种情况：n=1即$GF(p)$；p为2即$GF(2^n)$。前者称之为素域，后者称之为二进制域。在密码学中，有限域GF(p)是一个很重要的域，其中p为素数。简单来说，GF(p)就是 mod p，因为一个数 模p后，结果在[0, p-1]之间。对于元素a和b，那么(a+b) mod p和(a*b)mod p，其结果都是域中的元素。GF(p)里面的加法和乘法都是平时用的加法和乘法。GF(p)的加法和乘法单位元分别是0和1，元素的加法和乘法逆元都很容易理解和求得\n",
    "\n",
    "$GF(p)$的空间是模p的完全剩余类$Z_p : \\left\\{0, 1, \\cdots, p-1 \\right\\}$\n",
    "\n",
    "举一个例子：$\\mathbb{F}_{3221225473}$ ($3221225473 = 3 \\cdot 2^{30} + 1$) 就是一个格罗瓦素域。\n",
    "\n",
    "有限域的元素个数是一个素数的幂$p^n$，n为正整数，一般记为$GF(p^n)$\n",
    "\n",
    "下面给一个引用自stark101中的一个FieldElement 实现 https://github.com/starkware-industries/stark101"
   ]
  },
  {
   "cell_type": "code",
   "execution_count": 1,
   "id": "cae46927",
   "metadata": {},
   "outputs": [],
   "source": [
    "class FieldElement:\n",
    "    \"\"\"\n",
    "    Represents an element of F_(3 * 2**30 + 1).\n",
    "    \"\"\"\n",
    "    k_modulus = 3 * 2**30 + 1\n",
    "    generator_val = 5\n",
    "\n",
    "    def __init__(self, val):\n",
    "        self.val = val % FieldElement.k_modulus\n",
    "\n",
    "    @staticmethod\n",
    "    def zero():\n",
    "        \"\"\"\n",
    "        Obtains the zero element of the field.\n",
    "        \"\"\"\n",
    "        return FieldElement(0)\n",
    "\n",
    "    @staticmethod\n",
    "    def one():\n",
    "        \"\"\"\n",
    "        Obtains the unit element of the field.\n",
    "        \"\"\"\n",
    "        return FieldElement(1)\n",
    "\n",
    "    def __repr__(self):\n",
    "        # Choose the shorter representation between the positive and negative values of the element.\n",
    "        return repr((self.val + self.k_modulus//2) % self.k_modulus - self.k_modulus//2)\n",
    "\n",
    "    def __eq__(self, other):\n",
    "        if isinstance(other, int):\n",
    "            other = FieldElement(other)\n",
    "        return isinstance(other, FieldElement) and self.val == other.val\n",
    "\n",
    "    def __hash__(self):\n",
    "        return hash(self.val)\n",
    "\n",
    "    @staticmethod\n",
    "    def generator():\n",
    "        return FieldElement(FieldElement.generator_val)\n",
    "\n",
    "    @staticmethod\n",
    "    def typecast(other):\n",
    "        if isinstance(other, int):\n",
    "            return FieldElement(other)\n",
    "        assert isinstance(other, FieldElement), f'Type mismatch: FieldElement and {type(other)}.'\n",
    "        return other\n",
    "\n",
    "    def __neg__(self):\n",
    "        return self.zero() - self\n",
    "\n",
    "    def __add__(self, other):\n",
    "        try:\n",
    "            other = FieldElement.typecast(other)\n",
    "        except AssertionError:\n",
    "            return NotImplemented\n",
    "        return FieldElement((self.val + other.val) % FieldElement.k_modulus)\n",
    "\n",
    "    __radd__ = __add__\n",
    "\n",
    "    def __sub__(self, other):\n",
    "        try:\n",
    "            other = FieldElement.typecast(other)\n",
    "        except AssertionError:\n",
    "            return NotImplemented\n",
    "        return FieldElement((self.val - other.val) % FieldElement.k_modulus)\n",
    "\n",
    "    def __rsub__(self, other):\n",
    "        return -(self - other)\n",
    "\n",
    "    def __mul__(self, other):\n",
    "        try:\n",
    "            other = FieldElement.typecast(other)\n",
    "        except AssertionError:\n",
    "            return NotImplemented\n",
    "        return FieldElement((self.val * other.val) % FieldElement.k_modulus)\n",
    "\n",
    "    __rmul__ = __mul__\n",
    "\n",
    "    def __truediv__(self, other):\n",
    "        other = FieldElement.typecast(other)\n",
    "        return self * other.inverse()\n",
    "\n",
    "    def __pow__(self, n):\n",
    "        assert n >= 0\n",
    "        cur_pow = self\n",
    "        res = FieldElement(1)\n",
    "        while n > 0:\n",
    "            if n % 2 != 0:\n",
    "                res *= cur_pow\n",
    "            n = n // 2\n",
    "            cur_pow *= cur_pow\n",
    "        return res\n",
    "\n",
    "    def inverse(self):\n",
    "        t, new_t = 0, 1\n",
    "        r, new_r = FieldElement.k_modulus, self.val\n",
    "        while new_r != 0:\n",
    "            quotient = r // new_r\n",
    "            t, new_t = new_t, (t - (quotient * new_t))\n",
    "            r, new_r = new_r, r - quotient * new_r\n",
    "        assert r == 1\n",
    "        return FieldElement(t)\n",
    "\n",
    "    def is_order(self, n):\n",
    "        \"\"\"\n",
    "        Naively checks that the element is of order n by raising it to all powers up to n, checking\n",
    "        that the element to the n-th power is the unit, but not so for any k<n.\n",
    "        \"\"\"\n",
    "        assert n >= 1\n",
    "        h = FieldElement(1)\n",
    "        for _ in range(1, n):\n",
    "            h *= self\n",
    "            if h == FieldElement(1):\n",
    "                return False\n",
    "        return h * self == FieldElement(1)\n",
    "\n",
    "    def _serialize_(self):\n",
    "        return repr(self.val)\n",
    "\n",
    "    @staticmethod\n",
    "    def random_element(exclude_elements=[]):\n",
    "        fe = FieldElement(randint(0, FieldElement.k_modulus - 1))\n",
    "        while fe in exclude_elements:\n",
    "            fe = FieldElement(randint(0, FieldElement.k_modulus - 1))\n",
    "        return fe"
   ]
  },
  {
   "cell_type": "code",
   "execution_count": 2,
   "id": "86d40609",
   "metadata": {},
   "outputs": [
    {
     "data": {
      "text/plain": [
       "1"
      ]
     },
     "execution_count": 2,
     "metadata": {},
     "output_type": "execute_result"
    }
   ],
   "source": [
    "FieldElement(1)"
   ]
  },
  {
   "cell_type": "code",
   "execution_count": 10,
   "id": "7882755b",
   "metadata": {},
   "outputs": [
    {
     "name": "stdout",
     "output_type": "stream",
     "text": [
      "15728640\n"
     ]
    },
    {
     "data": {
      "text/plain": [
       "1024"
      ]
     },
     "execution_count": 10,
     "metadata": {},
     "output_type": "execute_result"
    }
   ],
   "source": [
    "g=FieldElement.generator()*(3*2**20)\n",
    "G=[g ** i for i in range(1024)]\n",
    "print(g)\n",
    "len(G)"
   ]
  },
  {
   "cell_type": "markdown",
   "id": "63f8f3d8",
   "metadata": {},
   "source": [
    "  𝔽×  表示  𝔽 的乘法循环群，其中排除了𝔽 的0元。𝔽× 有两个重要的性质，第一其大小为2^30，第二对于任意的i, 0≤𝑖≤30，存在一个子群，大小为2^i ."
   ]
  },
  {
   "cell_type": "markdown",
   "id": "d1d39770",
   "metadata": {},
   "source": [
    "## 陪集coset\n",
    "\n",
    "对上面的$G$ ，左乘一个 $\\mathbb{F}^\\times$ 的生成元, 就得到一个$G$ 的左陪集 [coset](https://en.wikipedia.org/wiki/Coset) <br>\n",
    "陪集在后面的RScode编码中将会用到。"
   ]
  },
  {
   "cell_type": "code",
   "execution_count": 14,
   "id": "908b4e34",
   "metadata": {},
   "outputs": [
    {
     "data": {
      "text/plain": [
       "78643200"
      ]
     },
     "execution_count": 14,
     "metadata": {},
     "output_type": "execute_result"
    }
   ],
   "source": [
    "LC=[FieldElement.generator() * g for g in G]\n",
    "LC[1]"
   ]
  },
  {
   "cell_type": "markdown",
   "id": "e0f0e14f",
   "metadata": {},
   "source": [
    "## $GF(2^n)$\n",
    "\n",
    "$GF(2^n)$中的的元素是系数为二进制0和1的多项式，最高不超过n-1次。一个元素可以被表示成一个长度为n的位矢量。例如二进制数$11001_2$在$GF(2^5)$中可以记作$x^4+x^3+1$\n",
    "\n",
    "\n",
    "　　1.普通多项式运算。这个不必多说，从小学初中就开始学，就是我们认识的普通多项式。\n",
    "\n",
    "　　2.系数在$Z_p$中的多项式运算。和普通多项式运算不同的是，系数要进行模p运算。模可以是任意素数，一般取二，是最简单的情况。\n",
    "\n",
    "　　3.有限域$GF(2^n)$上的多项式运算。这种运算和计算机的运作方式很相似，对于一个有限域$GF(2^n)$我们定义如下要求：系数对2取模运算，最高次数小于n，多项式对n次素多项式取模运算。既然是域那就有逆元，可以用拓展欧几里得算法求逆。\n",
    "\n",
    "　　下面分别介绍在$GF(2^n)$上的四则运算：\n",
    "\n",
    "　　1.加法（减法）\n",
    "\n",
    "　　$GF(2^n)$上的加法即比特串的异或运算，因为是异或，加减其实是一样的，都是异或而已。<br>\n",
    "  \n",
    "　　2.乘法\n",
    "\n",
    "　　乘法即比特串的移位和异或运算。实际运算的时候和普通乘法很像，只不过加法变成了异或。下面的运算用了一个小技巧，异或的结果只和参与异或的1的个数有关，奇数则为1，偶数则为0。\n",
    "　　或者可以表示为$011_2\\times 101_2=(101_2)<<1\\oplus (101_2)<<0=1111_2$其中<<为移位符。\n",
    "\n",
    "　　3.取模\n",
    "\n",
    "　　在$GF(2^n)$上取模运算就相当于除法。"
   ]
  },
  {
   "cell_type": "code",
   "execution_count": null,
   "id": "c1a1e129",
   "metadata": {},
   "outputs": [],
   "source": []
  }
 ],
 "metadata": {
  "kernelspec": {
   "display_name": "Python 3 (ipykernel)",
   "language": "python",
   "name": "python3"
  },
  "language_info": {
   "codemirror_mode": {
    "name": "ipython",
    "version": 3
   },
   "file_extension": ".py",
   "mimetype": "text/x-python",
   "name": "python",
   "nbconvert_exporter": "python",
   "pygments_lexer": "ipython3",
   "version": "3.10.1"
  }
 },
 "nbformat": 4,
 "nbformat_minor": 5
}
