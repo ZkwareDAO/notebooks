{
 "cells": [
  {
   "cell_type": "markdown",
   "id": "ea982178",
   "metadata": {},
   "source": [
    "## zkp知识图谱\n",
    "awesome zkp \n",
    "https://github.com/matter-labs/awesome-zero-knowledge-proofs \n",
    "\n",
    "| 模块 | 子模块 | 知识点 | 参考资料|  说明 |应用开发 | 算法优化 | 理论研究 |\n",
    "|:------|:------|:------|:------|:------|:------:|:------|:------|\n",
    "|ZKP概述|||| ||||\n",
    "| |ZKP入门| |https://www.youtube.com/watch?v=gGHmd0htyPc |星辰实验室很基础，可以看一下|YES|YES|YES|\n",
    "||ZKP应用场景|零知识的基本概念|TBD|不含数学符号的科普文章 |YES|YES|YES|\n",
    "| |ZKP技术演进|ZKSNARK/ZKSTARK/可信设置等|TBD|了解ZKP的基本技术特点|YES|YES|YES|\n",
    "| |以太坊rollup概述|OP/ZK|TBD|了解rollup/zkevm的基本技术特点||YES|YES|\n",
    "| |zkapp开发概述|circom|https://www.youtube.com/watch?v=3VrvKacqnVQ |哥大张烨博士介绍|YES|||\n",
    "| ||ZoKrates| |以太坊的零知识工具集|YES|||\n",
    "|ZKP前传 ||||||||\n",
    "| |数论基础|RSA/有限域等||||YES|YES|\n",
    "| |椭圆曲线|签名||||YES|YES|\n",
    "| |多项式|KATE承诺等||||YES|YES|\n",
    "|深入理解ZKSNARKS ||||||||\n",
    "| |Kate承诺|LPCP/零知识/双盲/简洁性|Kate承诺证明爱因斯坦推理题|||YES|YES|\n",
    "| |zcash官方explain snark|同态/pinocchio等|https://z.cash/technology/zksnarks/ |||YES||\n",
    "| |bellman代码使用与分析|rust库调用|TBD|||YES||\n",
    "| |snarkjs代码使用与分析|JS代码实现和调用|TBD|||YES||\n",
    "| |TornadoCash实现分析|circom/snarkjs|TBD||YES|||\n",
    "| |QAP/R1CS||TBD|||YES|YES|\n",
    "| |深入浅出zksnark||TBD|||YES||\n",
    "| |Filecoin的zksnark技术解析||TBD|||YES||\n",
    "|ZKSTARKS 入门||||||||\n",
    "| |stark基本概念|FRI|https://vitalik.ca/general/2017/11/09/starks_part_1.html |入门科普|YES|YES|YES|\n",
    "| ||stark101|https://starkware.co/stark-101/ |原理和代码，非常好|YES|YES|YES|\n",
    "| ||特点/性能等|https://www.youtube.com/watch?v=1KSwVIZ82hs |大神eli ben sasson 18年视频|YES|YES|YES|\n",
    "| ||python代码|stark证明爱因斯坦推理题||YES|YES|YES|\n",
    "| |cairo编程||||YES|||\n",
    "| |libstark编程||||YES|||\n",
    "|理论研究||||||||\n",
    "| |sonic||TBD ||||YES|\n",
    "| |plonk||TBD ||||YES|\n",
    "| |marlin||TBD ||||YES|\n",
    "| |Fractal||TBD ||||YES|\n",
    "| |UO Group||TBD ||||YES|\n",
    "| |Verkle Tree||TBD |||YES|YES|\n",
    "| |vector commitment||TBD |||YES|YES|\n",
    "\n"
   ]
  },
  {
   "cell_type": "code",
   "execution_count": null,
   "id": "a4b06812",
   "metadata": {},
   "outputs": [],
   "source": []
  }
 ],
 "metadata": {
  "kernelspec": {
   "display_name": "Python 3 (ipykernel)",
   "language": "python",
   "name": "python3"
  },
  "language_info": {
   "codemirror_mode": {
    "name": "ipython",
    "version": 3
   },
   "file_extension": ".py",
   "mimetype": "text/x-python",
   "name": "python",
   "nbconvert_exporter": "python",
   "pygments_lexer": "ipython3",
   "version": "3.10.1"
  }
 },
 "nbformat": 4,
 "nbformat_minor": 5
}
